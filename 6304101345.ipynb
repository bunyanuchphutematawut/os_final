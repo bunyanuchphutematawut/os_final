{
  "nbformat": 4,
  "nbformat_minor": 0,
  "metadata": {
    "colab": {
      "provenance": [],
      "collapsed_sections": []
    },
    "kernelspec": {
      "name": "python3",
      "display_name": "Python 3"
    },
    "language_info": {
      "name": "python"
    }
  },
  "cells": [
    {
      "cell_type": "markdown",
      "source": [
        "รหัส 6304101345 \n",
        "ชื่อ นางสาวบุญยานุช พุฒิเมธาวุฒิ\n",
        "กลุ่มเรียนที่ 2"
      ],
      "metadata": {
        "id": "34eo9ssVYuki"
      }
    }
  ]
}